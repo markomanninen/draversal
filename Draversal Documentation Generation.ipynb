{
  "cells": [
    {
      "cell_type": "code",
      "execution_count": null,
      "id": "2d488f55-cf09-4ffc-a6b9-3819b74834d6",
      "metadata": {
        "ExecuteTime": {
          "end_time": "2023-10-01T19:57:17.434375+00:00",
          "start_time": "2023-10-01T19:57:17.280177+00:00"
        },
        "jupyter": {
          "outputs_hidden": true
        },
        "noteable": {
          "cell_type": "code"
        }
      },
      "outputs": [],
      "source": [
        "#!pip install draversal"
      ]
    },
    {
      "cell_type": "code",
      "execution_count": null,
      "id": "6f909411-0036-44fe-95fb-72c1b98d004f",
      "metadata": {
        "ExecuteTime": {
          "end_time": "2023-10-01T19:57:17.922459+00:00",
          "start_time": "2023-10-01T19:57:17.439556+00:00"
        },
        "jupyter": {
          "outputs_hidden": false,
          "source_hidden": false
        },
        "noteable": {
          "cell_type": "code"
        }
      },
      "outputs": [],
      "source": [
        "!wget https://raw.githubusercontent.com/markomanninen/draversal/main/draversal.py"
      ]
    },
    {
      "cell_type": "code",
      "execution_count": null,
      "id": "5b81e6d9-e052-4b15-98b9-306c63d0be40",
      "metadata": {
        "ExecuteTime": {
          "end_time": "2023-10-01T19:57:18.089643+00:00",
          "start_time": "2023-10-01T19:57:17.929158+00:00"
        },
        "noteable": {
          "cell_type": "code"
        }
      },
      "outputs": [],
      "source": [
        "from draversal import DictTraversal, DictSearchQuery\n",
        "import draversal\n",
        "import inspect"
      ]
    },
    {
      "cell_type": "code",
      "execution_count": null,
      "id": "1591fdc3-8f94-4e16-808b-52eab8453d80",
      "metadata": {
        "ExecuteTime": {
          "end_time": "2023-10-01T19:57:18.251525+00:00",
          "start_time": "2023-10-01T19:57:18.095463+00:00"
        },
        "jupyter": {
          "outputs_hidden": false,
          "source_hidden": false
        },
        "noteable": {
          "cell_type": "code"
        }
      },
      "outputs": [],
      "source": [
        "method_docstrings = {}\n",
        "\n",
        "# For module-level functions\n",
        "module = inspect.getmodule(draversal)  # Replace DictTraversal with the actual class name\n",
        "for func_name in sorted(dir(module)):\n",
        "    if func_name in [\"contextmanager\"]:\n",
        "        continue\n",
        "    func = getattr(module, func_name)\n",
        "    if inspect.isfunction(func):\n",
        "        method_docstrings[func_name] = func.__doc__\n",
        "    elif inspect.isclass(func):\n",
        "        method_docstrings[func_name] = func.__doc__\n",
        "\n",
        "private_methods = ['__init__', '__iter__', '__next__', '__pos__', '__neg__', '__getitem__', '__delitem__']\n",
        "\n",
        "for method_name in sorted(dir(DictTraversal)):\n",
        "    method = getattr(DictTraversal, method_name)\n",
        "    if callable(method) and method.__qualname__.split('.')[0] == 'DictTraversal' and method_name not in ['BackwardIterator', 'fromkeys']:\n",
        "        if not method_name.startswith('_') or method_name in private_methods:\n",
        "            method_docstrings[\"DictTraversal.\" + method_name] = method.__doc__\n",
        "\n",
        "for method_name in sorted(dir(DictSearchQuery)):\n",
        "    method = getattr(DictSearchQuery, method_name)\n",
        "    if callable(method) and method.__qualname__.split('.')[0] == 'DictSearchQuery' and method_name not in ['OPERATOR_MAP', 'fromkeys']:\n",
        "        if not method_name.startswith('_') or method_name in private_methods:\n",
        "            method_docstrings[\"DictSearchQuery.\" + method_name] = method.__doc__"
      ]
    },
    {
      "cell_type": "code",
      "execution_count": null,
      "id": "40e388b2-caba-4ef7-af3b-a138c9f342c8",
      "metadata": {
        "ExecuteTime": {
          "end_time": "2023-10-01T19:57:18.413217+00:00",
          "start_time": "2023-10-01T19:57:18.257269+00:00"
        },
        "jupyter": {
          "outputs_hidden": false,
          "source_hidden": false
        },
        "noteable": {
          "cell_type": "code"
        }
      },
      "outputs": [],
      "source": [
        "method_docstrings.keys()"
      ]
    },
    {
      "cell_type": "code",
      "execution_count": null,
      "id": "2f247bab-e644-4a7e-988c-512bc5c9c72f",
      "metadata": {
        "ExecuteTime": {
          "end_time": "2023-10-01T19:57:18.637345+00:00",
          "start_time": "2023-10-01T19:57:18.419105+00:00"
        },
        "jupyter": {
          "outputs_hidden": false
        },
        "noteable": {
          "cell_type": "code"
        },
        "tags": [
          "show_line_numbers"
        ]
      },
      "outputs": [],
      "source": [
        "from IPython.core.display import display, Markdown\n",
        "import re\n",
        "\n",
        "def params_to_string(parsed_params):\n",
        "    param_lines = []\n",
        "    for name, details in parsed_params.items():\n",
        "        param_type = details['type']\n",
        "        description = details['description']\n",
        "        if param_type:\n",
        "            param_line = f\"- __{name}__ ({param_type}): {description}\"\n",
        "        else:\n",
        "            param_line = f\"- __{name}__: {description}\"\n",
        "        param_lines.append(param_line)\n",
        "    return '\\n'.join(param_lines) + '\\n'\n",
        "\n",
        "def parse_parameters(param_text):\n",
        "    parsed_params = {}\n",
        "    lines = param_text.strip().split('\\n')\n",
        "    for line in lines:\n",
        "        # Split by the first colon to separate name and type from description\n",
        "        name_type, description = line.split(':', 1)\n",
        "        # Further split name and type if available\n",
        "        name_type_parts = name_type.split('(', 1)\n",
        "        name = name_type_parts[0].strip()\n",
        "        param_type = name_type_parts[1].rstrip(')') if len(name_type_parts) > 1 else None\n",
        "        # Store in dictionary\n",
        "        parsed_params[name] = {'type': param_type, 'description': description.strip()}\n",
        "    return parsed_params\n",
        "\n",
        "# Function to format a docstring into a complete Markdown template\n",
        "def complete_format_docstring_to_markdown(method_name, docstring):\n",
        "    if not docstring:\n",
        "        return\n",
        "    lines = docstring.strip().split('\\n')\n",
        "    description, params, returns, raises, behavior, examples, note, yields, attributes = [], [], '', [], [], [], [], '', []\n",
        "    section = None\n",
        "    space = \"           \"\n",
        "    if method_name in [\"validate_data\", \"prev\", \"root\", \"first\", \"last\", \"demo\", \"DictTraversal\", \"DictSearchQuery\", \"flatten_dict\", \"reconstruct_item\"]:\n",
        "        space = \"       \"\n",
        "    for line in lines:\n",
        "        codeline = line.rstrip().replace(space, \"\", 1)\n",
        "        line = line.strip()\n",
        "        if line.startswith('Parameters:'):\n",
        "            section = 'params'\n",
        "        elif line.startswith('Attributes:'):\n",
        "            section = 'attributes'\n",
        "        elif line.startswith('Returns:'):\n",
        "            section = 'returns'\n",
        "        elif line.startswith('Raises:'):\n",
        "            section = 'raises'\n",
        "        elif line.startswith('Behavior:'):\n",
        "            section = 'behavior'\n",
        "        elif line.startswith('Example:'):\n",
        "            section = 'examples'\n",
        "        elif line.startswith('Note:'):\n",
        "            section = 'note'\n",
        "        elif line.startswith('Yields:'):\n",
        "            section = 'yield'\n",
        "        else:\n",
        "            if section == 'params':\n",
        "                params.append(line)\n",
        "            elif section == 'attributes':\n",
        "                attributes.append(line)\n",
        "            elif section == 'returns':\n",
        "                returns = line\n",
        "            elif section == 'raises':\n",
        "                raises.append(line)\n",
        "            elif section == 'behavior':\n",
        "                behavior.append(codeline)\n",
        "            elif section == 'examples':\n",
        "                examples.append(codeline)\n",
        "            elif section == 'note':\n",
        "                note.append(line)\n",
        "            elif section == 'yield':\n",
        "                yields = line\n",
        "            else:\n",
        "                description.append(line)\n",
        "\n",
        "    markdown_lines = ['\\n\\n']\n",
        "    method_or_class = 'Method' if method_name not in ['DictTraversal', 'DictSearchQuery'] else 'Class'\n",
        "    markdown_lines.append(f'# {method_or_class}: `{method_name}`\\n\\n')\n",
        "    if description:\n",
        "        markdown_lines.extend(['## Description\\n', '\\n'.join(description) + '\\n', ''])\n",
        "    if params:\n",
        "        markdown_lines.extend(['## Parameters\\n', params_to_string(parse_parameters('\\n'.join(params))), ''])\n",
        "    if attributes:\n",
        "        #print(method_name, attributes)\n",
        "        markdown_lines.extend(['## Attributes\\n', params_to_string(parse_parameters('\\n'.join(attributes))), ''])\n",
        "    if returns:\n",
        "        markdown_lines.extend(['## Returns\\n', f'{returns}\\n', ''])\n",
        "    if yields:\n",
        "        markdown_lines.extend(['## Yields\\n', f'{yields}\\n', ''])\n",
        "    if raises:\n",
        "        markdown_lines.extend(['## Raises\\n', params_to_string(parse_parameters('\\n'.join(raises))), ''])\n",
        "    if behavior:\n",
        "        markdown_lines.extend(['## Behavior\\n', '\\n'.join(behavior) + '\\n', ''])\n",
        "    if note:\n",
        "        markdown_lines.extend(['## Note\\n', '\\n'.join(note) + '\\n', ''])\n",
        "    if examples:\n",
        "        markdown_lines.extend(['## Example\\n', '\\n'.join(examples) + '\\n', ''])\n",
        "    return '\\n---\\n\\n' + ''.join(markdown_lines)\n",
        "\n",
        "all_formatted_md = \"\"\n",
        "# Loop through each method and display its formatted docstring\n",
        "for method_name, docstring in method_docstrings.items():\n",
        "    #print(f\"method_name: {method_name}\")\n",
        "    formatted_md = complete_format_docstring_to_markdown(method_name, docstring)\n",
        "    if formatted_md:\n",
        "        display(Markdown(formatted_md))\n",
        "        all_formatted_md += formatted_md\n",
        "\n",
        "with open(\"draversal2_docs.md\", \"w\") as f:\n",
        "    f.write(all_formatted_md)"
      ]
    }
  ],
  "metadata": {
    "kernel_info": {
      "name": "python3"
    },
    "kernelspec": {
      "display_name": "Python 3.9",
      "language": "python",
      "name": "python3"
    },
    "noteable": {
      "last_delta_id": "f99903ff-dfd9-4e04-b8c1-4512e325d27e"
    },
    "noteable-chatgpt": {
      "create_notebook": {
        "openai_conversation_id": "404da63e-1d5b-5f26-852f-f0e9cb0e794b",
        "openai_ephemeral_user_id": "3d033450-f342-52f9-9122-ce428fe7016c",
        "openai_subdivision1_iso_code": "FI-18"
      }
    },
    "nteract": {
      "version": "noteable@2.9.0"
    },
    "selected_hardware_size": "small"
  },
  "nbformat": 4,
  "nbformat_minor": 5
}
